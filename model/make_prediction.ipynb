{
 "cells": [
  {
   "cell_type": "code",
   "execution_count": 27,
   "id": "a4e6db37-98fe-43ff-8139-4b188732d840",
   "metadata": {},
   "outputs": [
    {
     "name": "stdout",
     "output_type": "stream",
     "text": [
      "1/1 [==============================] - 0s 43ms/step\n"
     ]
    },
    {
     "name": "stderr",
     "output_type": "stream",
     "text": [
      "2023-07-27 23:33:16.803405: I tensorflow/core/grappler/optimizers/custom_graph_optimizer_registry.cc:114] Plugin optimizer for device_type GPU is enabled.\n"
     ]
    },
    {
     "data": {
      "text/markdown": [
       "## ✅ Bacterial Spot: 91.57 %"
      ],
      "text/plain": [
       "<IPython.core.display.Markdown object>"
      ]
     },
     "metadata": {},
     "output_type": "display_data"
    }
   ],
   "source": [
    "import numpy as np\n",
    "import tensorflow as tf\n",
    "from PIL import Image\n",
    "from tensorflow.keras.preprocessing import image as keras_image\n",
    "from IPython.display import Markdown, display\n",
    "\n",
    "lbls = ['Bacterial Spot',\n",
    "        'Early Blight',\n",
    "        'Late Blight',\n",
    "        'Leaf Mold',\n",
    "        'Septoria Leaf Spot',\n",
    "        'Target Spot',\n",
    "        'Tomato Yellow Leaf Curl Virus',\n",
    "        'Tomato Mosaic Virus',\n",
    "        'Two-Spotted Spider Mite',\n",
    "        'Healthy']\n",
    "\n",
    "img = Image.open('/Users/pranav/Downloads/MLdatasets/Cross-validation1/Test'+'/Bacterial_spot227'+'/Bs2.jpg')\n",
    "img = img.resize((227, 227))\n",
    "img = img.convert(\"RGB\")\n",
    "img_array = keras_image.img_to_array(img)\n",
    "img_array = img_array / 255.0\n",
    "img_array = np.expand_dims(img_array, axis=0)\n",
    "model = tf.keras.models.load_model('90plus_16-32-64.keras', compile=False)\n",
    "prediction = model.predict(img_array)\n",
    "prediction_label = np.argmax(prediction)\n",
    "display(Markdown(f\"## ✅ {lbls[prediction_label]}: {round(prediction[0][prediction_label]*100, 2)} %\"))"
   ]
  }
 ],
 "metadata": {
  "kernelspec": {
   "display_name": "Python 3 (ipykernel)",
   "language": "python",
   "name": "python3"
  },
  "language_info": {
   "codemirror_mode": {
    "name": "ipython",
    "version": 3
   },
   "file_extension": ".py",
   "mimetype": "text/x-python",
   "name": "python",
   "nbconvert_exporter": "python",
   "pygments_lexer": "ipython3",
   "version": "3.11.3"
  }
 },
 "nbformat": 4,
 "nbformat_minor": 5
}
